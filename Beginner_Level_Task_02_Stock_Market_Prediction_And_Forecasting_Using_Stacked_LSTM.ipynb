{
  "nbformat": 4,
  "nbformat_minor": 0,
  "metadata": {
    "colab": {
      "name": "Beginner_Level_Task_02_Stock_Market_Prediction_And_Forecasting_Using_Stacked_LSTM.ipynb",
      "provenance": []
    },
    "kernelspec": {
      "name": "python3",
      "display_name": "Python 3"
    },
    "language_info": {
      "name": "python"
    }
  },
  "cells": [
    {
      "cell_type": "markdown",
      "source": [
        "#DATA SCIENCE INTERN AT LET'S GROW MORE(LGM)"
      ],
      "metadata": {
        "id": "DJCjh0NnT_WB"
      }
    },
    {
      "cell_type": "markdown",
      "source": [
        "##Author : Shuvam Chakraborty"
      ],
      "metadata": {
        "id": "P_PN8sizT98r"
      }
    },
    {
      "cell_type": "markdown",
      "source": [
        "#Beginners Level Task-2"
      ],
      "metadata": {
        "id": "WNKcpE6GUZb7"
      }
    },
    {
      "cell_type": "markdown",
      "source": [
        "#Stock Market Prediction And Forecasting Using Stacked LSTM"
      ],
      "metadata": {
        "id": "pnGjui_EUubP"
      }
    },
    {
      "cell_type": "markdown",
      "source": [
        "**Dataset Link :** https://raw.githubusercontent.com/mwitiderrick/stockprice/master/NSE-TATAGLOBAL.csv"
      ],
      "metadata": {
        "id": "Jkvq8FNAVMbH"
      }
    },
    {
      "cell_type": "code",
      "source": [
        "# Importing Required Libraries\n",
        "\n",
        "import pandas as pd\n",
        "import numpy as np\n",
        "import matplotlib.pyplot as plt"
      ],
      "metadata": {
        "id": "zTdl0Lh1VK02"
      },
      "execution_count": 42,
      "outputs": []
    },
    {
      "cell_type": "code",
      "source": [
        "#Loading Dataset\n",
        "\n",
        "ds=pd.read_csv('https://raw.githubusercontent.com/mwitiderrick/stockprice/master/NSE-TATAGLOBAL.csv')\n",
        "ds=ds.iloc[::-1]"
      ],
      "metadata": {
        "id": "zkfsUj8iV3sN"
      },
      "execution_count": 43,
      "outputs": []
    },
    {
      "cell_type": "code",
      "source": [
        "ds.head()"
      ],
      "metadata": {
        "colab": {
          "base_uri": "https://localhost:8080/",
          "height": 206
        },
        "id": "lWHYd2HQXU6D",
        "outputId": "bfe7a023-c97a-48c9-a58c-32c551bd3042"
      },
      "execution_count": 44,
      "outputs": [
        {
          "output_type": "execute_result",
          "data": {
            "text/html": [
              "\n",
              "  <div id=\"df-0a289ebc-bb69-4beb-a319-675d85b7f9c7\">\n",
              "    <div class=\"colab-df-container\">\n",
              "      <div>\n",
              "<style scoped>\n",
              "    .dataframe tbody tr th:only-of-type {\n",
              "        vertical-align: middle;\n",
              "    }\n",
              "\n",
              "    .dataframe tbody tr th {\n",
              "        vertical-align: top;\n",
              "    }\n",
              "\n",
              "    .dataframe thead th {\n",
              "        text-align: right;\n",
              "    }\n",
              "</style>\n",
              "<table border=\"1\" class=\"dataframe\">\n",
              "  <thead>\n",
              "    <tr style=\"text-align: right;\">\n",
              "      <th></th>\n",
              "      <th>Date</th>\n",
              "      <th>Open</th>\n",
              "      <th>High</th>\n",
              "      <th>Low</th>\n",
              "      <th>Last</th>\n",
              "      <th>Close</th>\n",
              "      <th>Total Trade Quantity</th>\n",
              "      <th>Turnover (Lacs)</th>\n",
              "    </tr>\n",
              "  </thead>\n",
              "  <tbody>\n",
              "    <tr>\n",
              "      <th>2034</th>\n",
              "      <td>2010-07-21</td>\n",
              "      <td>122.1</td>\n",
              "      <td>123.00</td>\n",
              "      <td>121.05</td>\n",
              "      <td>121.10</td>\n",
              "      <td>121.55</td>\n",
              "      <td>658666</td>\n",
              "      <td>803.56</td>\n",
              "    </tr>\n",
              "    <tr>\n",
              "      <th>2033</th>\n",
              "      <td>2010-07-22</td>\n",
              "      <td>120.3</td>\n",
              "      <td>122.00</td>\n",
              "      <td>120.25</td>\n",
              "      <td>120.75</td>\n",
              "      <td>120.90</td>\n",
              "      <td>293312</td>\n",
              "      <td>355.17</td>\n",
              "    </tr>\n",
              "    <tr>\n",
              "      <th>2032</th>\n",
              "      <td>2010-07-23</td>\n",
              "      <td>121.8</td>\n",
              "      <td>121.95</td>\n",
              "      <td>120.25</td>\n",
              "      <td>120.35</td>\n",
              "      <td>120.65</td>\n",
              "      <td>281312</td>\n",
              "      <td>340.31</td>\n",
              "    </tr>\n",
              "    <tr>\n",
              "      <th>2031</th>\n",
              "      <td>2010-07-26</td>\n",
              "      <td>120.1</td>\n",
              "      <td>121.00</td>\n",
              "      <td>117.10</td>\n",
              "      <td>117.10</td>\n",
              "      <td>117.60</td>\n",
              "      <td>658440</td>\n",
              "      <td>780.01</td>\n",
              "    </tr>\n",
              "    <tr>\n",
              "      <th>2030</th>\n",
              "      <td>2010-07-27</td>\n",
              "      <td>117.6</td>\n",
              "      <td>119.50</td>\n",
              "      <td>112.00</td>\n",
              "      <td>118.80</td>\n",
              "      <td>118.65</td>\n",
              "      <td>586100</td>\n",
              "      <td>694.98</td>\n",
              "    </tr>\n",
              "  </tbody>\n",
              "</table>\n",
              "</div>\n",
              "      <button class=\"colab-df-convert\" onclick=\"convertToInteractive('df-0a289ebc-bb69-4beb-a319-675d85b7f9c7')\"\n",
              "              title=\"Convert this dataframe to an interactive table.\"\n",
              "              style=\"display:none;\">\n",
              "        \n",
              "  <svg xmlns=\"http://www.w3.org/2000/svg\" height=\"24px\"viewBox=\"0 0 24 24\"\n",
              "       width=\"24px\">\n",
              "    <path d=\"M0 0h24v24H0V0z\" fill=\"none\"/>\n",
              "    <path d=\"M18.56 5.44l.94 2.06.94-2.06 2.06-.94-2.06-.94-.94-2.06-.94 2.06-2.06.94zm-11 1L8.5 8.5l.94-2.06 2.06-.94-2.06-.94L8.5 2.5l-.94 2.06-2.06.94zm10 10l.94 2.06.94-2.06 2.06-.94-2.06-.94-.94-2.06-.94 2.06-2.06.94z\"/><path d=\"M17.41 7.96l-1.37-1.37c-.4-.4-.92-.59-1.43-.59-.52 0-1.04.2-1.43.59L10.3 9.45l-7.72 7.72c-.78.78-.78 2.05 0 2.83L4 21.41c.39.39.9.59 1.41.59.51 0 1.02-.2 1.41-.59l7.78-7.78 2.81-2.81c.8-.78.8-2.07 0-2.86zM5.41 20L4 18.59l7.72-7.72 1.47 1.35L5.41 20z\"/>\n",
              "  </svg>\n",
              "      </button>\n",
              "      \n",
              "  <style>\n",
              "    .colab-df-container {\n",
              "      display:flex;\n",
              "      flex-wrap:wrap;\n",
              "      gap: 12px;\n",
              "    }\n",
              "\n",
              "    .colab-df-convert {\n",
              "      background-color: #E8F0FE;\n",
              "      border: none;\n",
              "      border-radius: 50%;\n",
              "      cursor: pointer;\n",
              "      display: none;\n",
              "      fill: #1967D2;\n",
              "      height: 32px;\n",
              "      padding: 0 0 0 0;\n",
              "      width: 32px;\n",
              "    }\n",
              "\n",
              "    .colab-df-convert:hover {\n",
              "      background-color: #E2EBFA;\n",
              "      box-shadow: 0px 1px 2px rgba(60, 64, 67, 0.3), 0px 1px 3px 1px rgba(60, 64, 67, 0.15);\n",
              "      fill: #174EA6;\n",
              "    }\n",
              "\n",
              "    [theme=dark] .colab-df-convert {\n",
              "      background-color: #3B4455;\n",
              "      fill: #D2E3FC;\n",
              "    }\n",
              "\n",
              "    [theme=dark] .colab-df-convert:hover {\n",
              "      background-color: #434B5C;\n",
              "      box-shadow: 0px 1px 3px 1px rgba(0, 0, 0, 0.15);\n",
              "      filter: drop-shadow(0px 1px 2px rgba(0, 0, 0, 0.3));\n",
              "      fill: #FFFFFF;\n",
              "    }\n",
              "  </style>\n",
              "\n",
              "      <script>\n",
              "        const buttonEl =\n",
              "          document.querySelector('#df-0a289ebc-bb69-4beb-a319-675d85b7f9c7 button.colab-df-convert');\n",
              "        buttonEl.style.display =\n",
              "          google.colab.kernel.accessAllowed ? 'block' : 'none';\n",
              "\n",
              "        async function convertToInteractive(key) {\n",
              "          const element = document.querySelector('#df-0a289ebc-bb69-4beb-a319-675d85b7f9c7');\n",
              "          const dataTable =\n",
              "            await google.colab.kernel.invokeFunction('convertToInteractive',\n",
              "                                                     [key], {});\n",
              "          if (!dataTable) return;\n",
              "\n",
              "          const docLinkHtml = 'Like what you see? Visit the ' +\n",
              "            '<a target=\"_blank\" href=https://colab.research.google.com/notebooks/data_table.ipynb>data table notebook</a>'\n",
              "            + ' to learn more about interactive tables.';\n",
              "          element.innerHTML = '';\n",
              "          dataTable['output_type'] = 'display_data';\n",
              "          await google.colab.output.renderOutput(dataTable, element);\n",
              "          const docLink = document.createElement('div');\n",
              "          docLink.innerHTML = docLinkHtml;\n",
              "          element.appendChild(docLink);\n",
              "        }\n",
              "      </script>\n",
              "    </div>\n",
              "  </div>\n",
              "  "
            ],
            "text/plain": [
              "            Date   Open    High  ...   Close  Total Trade Quantity  Turnover (Lacs)\n",
              "2034  2010-07-21  122.1  123.00  ...  121.55                658666           803.56\n",
              "2033  2010-07-22  120.3  122.00  ...  120.90                293312           355.17\n",
              "2032  2010-07-23  121.8  121.95  ...  120.65                281312           340.31\n",
              "2031  2010-07-26  120.1  121.00  ...  117.60                658440           780.01\n",
              "2030  2010-07-27  117.6  119.50  ...  118.65                586100           694.98\n",
              "\n",
              "[5 rows x 8 columns]"
            ]
          },
          "metadata": {},
          "execution_count": 44
        }
      ]
    },
    {
      "cell_type": "code",
      "source": [
        "ds.tail()"
      ],
      "metadata": {
        "colab": {
          "base_uri": "https://localhost:8080/",
          "height": 206
        },
        "id": "sPL6V7DjXZpp",
        "outputId": "5e012548-c73e-4a8f-e329-f0a8b7b900e2"
      },
      "execution_count": 45,
      "outputs": [
        {
          "output_type": "execute_result",
          "data": {
            "text/html": [
              "\n",
              "  <div id=\"df-b7a2611c-659e-47bc-b3b8-cea7dac7231d\">\n",
              "    <div class=\"colab-df-container\">\n",
              "      <div>\n",
              "<style scoped>\n",
              "    .dataframe tbody tr th:only-of-type {\n",
              "        vertical-align: middle;\n",
              "    }\n",
              "\n",
              "    .dataframe tbody tr th {\n",
              "        vertical-align: top;\n",
              "    }\n",
              "\n",
              "    .dataframe thead th {\n",
              "        text-align: right;\n",
              "    }\n",
              "</style>\n",
              "<table border=\"1\" class=\"dataframe\">\n",
              "  <thead>\n",
              "    <tr style=\"text-align: right;\">\n",
              "      <th></th>\n",
              "      <th>Date</th>\n",
              "      <th>Open</th>\n",
              "      <th>High</th>\n",
              "      <th>Low</th>\n",
              "      <th>Last</th>\n",
              "      <th>Close</th>\n",
              "      <th>Total Trade Quantity</th>\n",
              "      <th>Turnover (Lacs)</th>\n",
              "    </tr>\n",
              "  </thead>\n",
              "  <tbody>\n",
              "    <tr>\n",
              "      <th>4</th>\n",
              "      <td>2018-09-24</td>\n",
              "      <td>233.55</td>\n",
              "      <td>239.20</td>\n",
              "      <td>230.75</td>\n",
              "      <td>234.00</td>\n",
              "      <td>233.30</td>\n",
              "      <td>3423509</td>\n",
              "      <td>7999.55</td>\n",
              "    </tr>\n",
              "    <tr>\n",
              "      <th>3</th>\n",
              "      <td>2018-09-25</td>\n",
              "      <td>233.30</td>\n",
              "      <td>236.75</td>\n",
              "      <td>232.00</td>\n",
              "      <td>236.25</td>\n",
              "      <td>236.10</td>\n",
              "      <td>2349368</td>\n",
              "      <td>5503.90</td>\n",
              "    </tr>\n",
              "    <tr>\n",
              "      <th>2</th>\n",
              "      <td>2018-09-26</td>\n",
              "      <td>240.00</td>\n",
              "      <td>240.00</td>\n",
              "      <td>232.50</td>\n",
              "      <td>235.00</td>\n",
              "      <td>234.25</td>\n",
              "      <td>2240909</td>\n",
              "      <td>5248.60</td>\n",
              "    </tr>\n",
              "    <tr>\n",
              "      <th>1</th>\n",
              "      <td>2018-09-27</td>\n",
              "      <td>234.55</td>\n",
              "      <td>236.80</td>\n",
              "      <td>231.10</td>\n",
              "      <td>233.80</td>\n",
              "      <td>233.25</td>\n",
              "      <td>5082859</td>\n",
              "      <td>11859.95</td>\n",
              "    </tr>\n",
              "    <tr>\n",
              "      <th>0</th>\n",
              "      <td>2018-09-28</td>\n",
              "      <td>234.05</td>\n",
              "      <td>235.95</td>\n",
              "      <td>230.20</td>\n",
              "      <td>233.50</td>\n",
              "      <td>233.75</td>\n",
              "      <td>3069914</td>\n",
              "      <td>7162.35</td>\n",
              "    </tr>\n",
              "  </tbody>\n",
              "</table>\n",
              "</div>\n",
              "      <button class=\"colab-df-convert\" onclick=\"convertToInteractive('df-b7a2611c-659e-47bc-b3b8-cea7dac7231d')\"\n",
              "              title=\"Convert this dataframe to an interactive table.\"\n",
              "              style=\"display:none;\">\n",
              "        \n",
              "  <svg xmlns=\"http://www.w3.org/2000/svg\" height=\"24px\"viewBox=\"0 0 24 24\"\n",
              "       width=\"24px\">\n",
              "    <path d=\"M0 0h24v24H0V0z\" fill=\"none\"/>\n",
              "    <path d=\"M18.56 5.44l.94 2.06.94-2.06 2.06-.94-2.06-.94-.94-2.06-.94 2.06-2.06.94zm-11 1L8.5 8.5l.94-2.06 2.06-.94-2.06-.94L8.5 2.5l-.94 2.06-2.06.94zm10 10l.94 2.06.94-2.06 2.06-.94-2.06-.94-.94-2.06-.94 2.06-2.06.94z\"/><path d=\"M17.41 7.96l-1.37-1.37c-.4-.4-.92-.59-1.43-.59-.52 0-1.04.2-1.43.59L10.3 9.45l-7.72 7.72c-.78.78-.78 2.05 0 2.83L4 21.41c.39.39.9.59 1.41.59.51 0 1.02-.2 1.41-.59l7.78-7.78 2.81-2.81c.8-.78.8-2.07 0-2.86zM5.41 20L4 18.59l7.72-7.72 1.47 1.35L5.41 20z\"/>\n",
              "  </svg>\n",
              "      </button>\n",
              "      \n",
              "  <style>\n",
              "    .colab-df-container {\n",
              "      display:flex;\n",
              "      flex-wrap:wrap;\n",
              "      gap: 12px;\n",
              "    }\n",
              "\n",
              "    .colab-df-convert {\n",
              "      background-color: #E8F0FE;\n",
              "      border: none;\n",
              "      border-radius: 50%;\n",
              "      cursor: pointer;\n",
              "      display: none;\n",
              "      fill: #1967D2;\n",
              "      height: 32px;\n",
              "      padding: 0 0 0 0;\n",
              "      width: 32px;\n",
              "    }\n",
              "\n",
              "    .colab-df-convert:hover {\n",
              "      background-color: #E2EBFA;\n",
              "      box-shadow: 0px 1px 2px rgba(60, 64, 67, 0.3), 0px 1px 3px 1px rgba(60, 64, 67, 0.15);\n",
              "      fill: #174EA6;\n",
              "    }\n",
              "\n",
              "    [theme=dark] .colab-df-convert {\n",
              "      background-color: #3B4455;\n",
              "      fill: #D2E3FC;\n",
              "    }\n",
              "\n",
              "    [theme=dark] .colab-df-convert:hover {\n",
              "      background-color: #434B5C;\n",
              "      box-shadow: 0px 1px 3px 1px rgba(0, 0, 0, 0.15);\n",
              "      filter: drop-shadow(0px 1px 2px rgba(0, 0, 0, 0.3));\n",
              "      fill: #FFFFFF;\n",
              "    }\n",
              "  </style>\n",
              "\n",
              "      <script>\n",
              "        const buttonEl =\n",
              "          document.querySelector('#df-b7a2611c-659e-47bc-b3b8-cea7dac7231d button.colab-df-convert');\n",
              "        buttonEl.style.display =\n",
              "          google.colab.kernel.accessAllowed ? 'block' : 'none';\n",
              "\n",
              "        async function convertToInteractive(key) {\n",
              "          const element = document.querySelector('#df-b7a2611c-659e-47bc-b3b8-cea7dac7231d');\n",
              "          const dataTable =\n",
              "            await google.colab.kernel.invokeFunction('convertToInteractive',\n",
              "                                                     [key], {});\n",
              "          if (!dataTable) return;\n",
              "\n",
              "          const docLinkHtml = 'Like what you see? Visit the ' +\n",
              "            '<a target=\"_blank\" href=https://colab.research.google.com/notebooks/data_table.ipynb>data table notebook</a>'\n",
              "            + ' to learn more about interactive tables.';\n",
              "          element.innerHTML = '';\n",
              "          dataTable['output_type'] = 'display_data';\n",
              "          await google.colab.output.renderOutput(dataTable, element);\n",
              "          const docLink = document.createElement('div');\n",
              "          docLink.innerHTML = docLinkHtml;\n",
              "          element.appendChild(docLink);\n",
              "        }\n",
              "      </script>\n",
              "    </div>\n",
              "  </div>\n",
              "  "
            ],
            "text/plain": [
              "         Date    Open    High  ...   Close  Total Trade Quantity  Turnover (Lacs)\n",
              "4  2018-09-24  233.55  239.20  ...  233.30               3423509          7999.55\n",
              "3  2018-09-25  233.30  236.75  ...  236.10               2349368          5503.90\n",
              "2  2018-09-26  240.00  240.00  ...  234.25               2240909          5248.60\n",
              "1  2018-09-27  234.55  236.80  ...  233.25               5082859         11859.95\n",
              "0  2018-09-28  234.05  235.95  ...  233.75               3069914          7162.35\n",
              "\n",
              "[5 rows x 8 columns]"
            ]
          },
          "metadata": {},
          "execution_count": 45
        }
      ]
    },
    {
      "cell_type": "code",
      "source": [
        "ds1 = ds.reset_index()['High']"
      ],
      "metadata": {
        "id": "eTU5lCcvYHfA"
      },
      "execution_count": 46,
      "outputs": []
    },
    {
      "cell_type": "code",
      "source": [
        "plt.plot(ds1)"
      ],
      "metadata": {
        "colab": {
          "base_uri": "https://localhost:8080/",
          "height": 282
        },
        "id": "fVbVkVzBYNSb",
        "outputId": "64e0468f-4e0f-4da8-bace-724520fbe80c"
      },
      "execution_count": 47,
      "outputs": [
        {
          "output_type": "execute_result",
          "data": {
            "text/plain": [
              "[<matplotlib.lines.Line2D at 0x7fef75f6ff90>]"
            ]
          },
          "metadata": {},
          "execution_count": 47
        },
        {
          "output_type": "display_data",
          "data": {
            "image/png": "[encoded data removed]",
            "text/plain": [
              "<Figure size 432x288 with 1 Axes>"
            ]
          },
          "metadata": {
            "needs_background": "light"
          }
        }
      ]
    },
    {
      "cell_type": "markdown",
      "source": [
        "##Data Pre-Processing"
      ],
      "metadata": {
        "id": "Hdz0OGGZYT6h"
      }
    },
    {
      "cell_type": "code",
      "source": [
        "from sklearn.preprocessing import MinMaxScaler"
      ],
      "metadata": {
        "id": "CcKjBivBYZtm"
      },
      "execution_count": 48,
      "outputs": []
    },
    {
      "cell_type": "code",
      "source": [
        "S= MinMaxScaler(feature_range=(0,1))\n",
        "scaled= S.fit_transform(np.array(ds1).reshape(-1,1))\n",
        "print(scaled)"
      ],
      "metadata": {
        "colab": {
          "base_uri": "https://localhost:8080/"
        },
        "id": "_uhnRbHSYd0X",
        "outputId": "f8e67957-71e7-4b04-fed9-4a31d35cbe40"
      },
      "execution_count": 53,
      "outputs": [
        {
          "output_type": "stream",
          "name": "stdout",
          "text": [
            "[[0.16344786]\n",
            " [0.15938199]\n",
            " [0.15917869]\n",
            " ...\n",
            " [0.6391543 ]\n",
            " [0.62614353]\n",
            " [0.62268754]]\n"
          ]
        }
      ]
    },
    {
      "cell_type": "code",
      "source": [
        "X_train = []\n",
        "Y_train = []\n",
        "for i in range(60, 2035):\n",
        "    X_train.append(scaled[i-60:i, 0])\n",
        "    Y_train.append(scaled[i-50:i, 0])\n",
        "X_train, Y_train = np.array(X_train), np.array(Y_train)\n",
        "\n",
        "X_train = np.reshape(X_train, (X_train.shape[0], X_train.shape[1], 1))"
      ],
      "metadata": {
        "id": "C2007lZBYpNK"
      },
      "execution_count": 50,
      "outputs": []
    },
    {
      "cell_type": "markdown",
      "source": [
        "##Training LSTM Model"
      ],
      "metadata": {
        "id": "08wICJHiZie7"
      }
    },
    {
      "cell_type": "code",
      "source": [
        "from keras.models import Sequential as sq\n",
        "from keras.layers import Dense as dns\n",
        "from keras.layers import LSTM\n",
        "from keras.layers import Dropout as dpout"
      ],
      "metadata": {
        "id": "NVf5JW1oZOsQ"
      },
      "execution_count": 51,
      "outputs": []
    },
    {
      "cell_type": "code",
      "source": [
        "model = sq()\n",
        "model.add(LSTM(units=50,return_sequences=True,input_shape=(X_train.shape[1], 1)))\n",
        "model.add(dpout(0.2))\n",
        "model.add(LSTM(units=50,return_sequences=True))\n",
        "model.add(dpout(0.2))\n",
        "model.add(LSTM(units=50,return_sequences=True))\n",
        "model.add(dpout(0.2))\n",
        "model.add(LSTM(units=50))\n",
        "model.add(dpout(0.2))\n",
        "model.add(dns(units=1))\n",
        "model.compile(optimizer='adam',loss='mean_squared_error')\n",
        "model.fit(X_train,Y_train,epochs=100,batch_size=32)"
      ],
      "metadata": {
        "colab": {
          "base_uri": "https://localhost:8080/"
        },
        "id": "-FV8_YpVZ96V",
        "outputId": "7d0aa071-bdd2-4801-cf4d-8d929cf8186d"
      },
      "execution_count": 57,
      "outputs": [
        {
          "output_type": "stream",
          "name": "stdout",
          "text": [
            "Epoch 1/100\n",
            "62/62 [==============================] - 15s 121ms/step - loss: 0.0113\n",
            "Epoch 2/100\n",
            "62/62 [==============================] - 8s 121ms/step - loss: 0.0031\n",
            "Epoch 3/100\n",
            "62/62 [==============================] - 8s 123ms/step - loss: 0.0030\n",
            "Epoch 4/100\n",
            "62/62 [==============================] - 8s 123ms/step - loss: 0.0027\n",
            "Epoch 5/100\n",
            "62/62 [==============================] - 8s 123ms/step - loss: 0.0029\n",
            "Epoch 6/100\n",
            "62/62 [==============================] - 8s 123ms/step - loss: 0.0025\n",
            "Epoch 7/100\n",
            "62/62 [==============================] - 8s 122ms/step - loss: 0.0024\n",
            "Epoch 8/100\n",
            "62/62 [==============================] - 8s 122ms/step - loss: 0.0026\n",
            "Epoch 9/100\n",
            "62/62 [==============================] - 8s 121ms/step - loss: 0.0023\n",
            "Epoch 10/100\n",
            "62/62 [==============================] - 8s 122ms/step - loss: 0.0027\n",
            "Epoch 11/100\n",
            "62/62 [==============================] - 8s 122ms/step - loss: 0.0022\n",
            "Epoch 12/100\n",
            "62/62 [==============================] - 8s 121ms/step - loss: 0.0024\n",
            "Epoch 13/100\n",
            "62/62 [==============================] - 7s 121ms/step - loss: 0.0022\n",
            "Epoch 14/100\n",
            "62/62 [==============================] - 7s 121ms/step - loss: 0.0021\n",
            "Epoch 15/100\n",
            "62/62 [==============================] - 7s 120ms/step - loss: 0.0022\n",
            "Epoch 16/100\n",
            "62/62 [==============================] - 7s 121ms/step - loss: 0.0023\n",
            "Epoch 17/100\n",
            "62/62 [==============================] - 7s 121ms/step - loss: 0.0023\n",
            "Epoch 18/100\n",
            "62/62 [==============================] - 7s 121ms/step - loss: 0.0021\n",
            "Epoch 19/100\n",
            "62/62 [==============================] - 8s 121ms/step - loss: 0.0020\n",
            "Epoch 20/100\n",
            "62/62 [==============================] - 7s 121ms/step - loss: 0.0020\n",
            "Epoch 21/100\n",
            "62/62 [==============================] - 8s 121ms/step - loss: 0.0020\n",
            "Epoch 22/100\n",
            "62/62 [==============================] - 8s 122ms/step - loss: 0.0021\n",
            "Epoch 23/100\n",
            "62/62 [==============================] - 8s 122ms/step - loss: 0.0021\n",
            "Epoch 24/100\n",
            "62/62 [==============================] - 8s 122ms/step - loss: 0.0021\n",
            "Epoch 25/100\n",
            "62/62 [==============================] - 8s 122ms/step - loss: 0.0020\n",
            "Epoch 26/100\n",
            "62/62 [==============================] - 8s 121ms/step - loss: 0.0020\n",
            "Epoch 27/100\n",
            "62/62 [==============================] - 8s 121ms/step - loss: 0.0019\n",
            "Epoch 28/100\n",
            "62/62 [==============================] - 7s 120ms/step - loss: 0.0020\n",
            "Epoch 29/100\n",
            "62/62 [==============================] - 8s 121ms/step - loss: 0.0019\n",
            "Epoch 30/100\n",
            "62/62 [==============================] - 8s 122ms/step - loss: 0.0019\n",
            "Epoch 31/100\n",
            "62/62 [==============================] - 7s 121ms/step - loss: 0.0019\n",
            "Epoch 32/100\n",
            "62/62 [==============================] - 7s 120ms/step - loss: 0.0019\n",
            "Epoch 33/100\n",
            "62/62 [==============================] - 8s 121ms/step - loss: 0.0019\n",
            "Epoch 34/100\n",
            "62/62 [==============================] - 8s 122ms/step - loss: 0.0020\n",
            "Epoch 35/100\n",
            "62/62 [==============================] - 8s 122ms/step - loss: 0.0019\n",
            "Epoch 36/100\n",
            "62/62 [==============================] - 8s 122ms/step - loss: 0.0021\n",
            "Epoch 37/100\n",
            "62/62 [==============================] - 8s 124ms/step - loss: 0.0019\n",
            "Epoch 38/100\n",
            "62/62 [==============================] - 8s 124ms/step - loss: 0.0020\n",
            "Epoch 39/100\n",
            "62/62 [==============================] - 8s 123ms/step - loss: 0.0019\n",
            "Epoch 40/100\n",
            "62/62 [==============================] - 8s 121ms/step - loss: 0.0021\n",
            "Epoch 41/100\n",
            "62/62 [==============================] - 8s 121ms/step - loss: 0.0018\n",
            "Epoch 42/100\n",
            "62/62 [==============================] - 8s 122ms/step - loss: 0.0019\n",
            "Epoch 43/100\n",
            "62/62 [==============================] - 7s 121ms/step - loss: 0.0018\n",
            "Epoch 44/100\n",
            "62/62 [==============================] - 8s 122ms/step - loss: 0.0018\n",
            "Epoch 45/100\n",
            "62/62 [==============================] - 8s 123ms/step - loss: 0.0018\n",
            "Epoch 46/100\n",
            "62/62 [==============================] - 8s 121ms/step - loss: 0.0018\n",
            "Epoch 47/100\n",
            "62/62 [==============================] - 7s 121ms/step - loss: 0.0018\n",
            "Epoch 48/100\n",
            "62/62 [==============================] - 8s 121ms/step - loss: 0.0018\n",
            "Epoch 49/100\n",
            "62/62 [==============================] - 8s 121ms/step - loss: 0.0018\n",
            "Epoch 50/100\n",
            "62/62 [==============================] - 8s 121ms/step - loss: 0.0018\n",
            "Epoch 51/100\n",
            "62/62 [==============================] - 8s 121ms/step - loss: 0.0018\n",
            "Epoch 52/100\n",
            "62/62 [==============================] - 7s 121ms/step - loss: 0.0017\n",
            "Epoch 53/100\n",
            "62/62 [==============================] - 8s 121ms/step - loss: 0.0019\n",
            "Epoch 54/100\n",
            "62/62 [==============================] - 7s 121ms/step - loss: 0.0018\n",
            "Epoch 55/100\n",
            "62/62 [==============================] - 7s 121ms/step - loss: 0.0017\n",
            "Epoch 56/100\n",
            "62/62 [==============================] - 7s 121ms/step - loss: 0.0018\n",
            "Epoch 57/100\n",
            "62/62 [==============================] - 7s 121ms/step - loss: 0.0018\n",
            "Epoch 58/100\n",
            "62/62 [==============================] - 7s 121ms/step - loss: 0.0018\n",
            "Epoch 59/100\n",
            "62/62 [==============================] - 8s 121ms/step - loss: 0.0017\n",
            "Epoch 60/100\n",
            "62/62 [==============================] - 8s 123ms/step - loss: 0.0018\n",
            "Epoch 61/100\n",
            "62/62 [==============================] - 8s 122ms/step - loss: 0.0018\n",
            "Epoch 62/100\n",
            "62/62 [==============================] - 8s 122ms/step - loss: 0.0020\n",
            "Epoch 63/100\n",
            "62/62 [==============================] - 8s 121ms/step - loss: 0.0018\n",
            "Epoch 64/100\n",
            "62/62 [==============================] - 8s 122ms/step - loss: 0.0017\n",
            "Epoch 65/100\n",
            "62/62 [==============================] - 8s 122ms/step - loss: 0.0020\n",
            "Epoch 66/100\n",
            "62/62 [==============================] - 7s 121ms/step - loss: 0.0018\n",
            "Epoch 67/100\n",
            "62/62 [==============================] - 8s 121ms/step - loss: 0.0017\n",
            "Epoch 68/100\n",
            "62/62 [==============================] - 8s 122ms/step - loss: 0.0017\n",
            "Epoch 69/100\n",
            "62/62 [==============================] - 8s 122ms/step - loss: 0.0017\n",
            "Epoch 70/100\n",
            "62/62 [==============================] - 8s 121ms/step - loss: 0.0017\n",
            "Epoch 71/100\n",
            "62/62 [==============================] - 7s 120ms/step - loss: 0.0018\n",
            "Epoch 72/100\n",
            "62/62 [==============================] - 7s 120ms/step - loss: 0.0017\n",
            "Epoch 73/100\n",
            "62/62 [==============================] - 7s 120ms/step - loss: 0.0017\n",
            "Epoch 74/100\n",
            "62/62 [==============================] - 8s 121ms/step - loss: 0.0018\n",
            "Epoch 75/100\n",
            "62/62 [==============================] - 7s 120ms/step - loss: 0.0018\n",
            "Epoch 76/100\n",
            "62/62 [==============================] - 7s 121ms/step - loss: 0.0017\n",
            "Epoch 77/100\n",
            "62/62 [==============================] - 8s 121ms/step - loss: 0.0018\n",
            "Epoch 78/100\n",
            "62/62 [==============================] - 8s 122ms/step - loss: 0.0017\n",
            "Epoch 79/100\n",
            "62/62 [==============================] - 7s 121ms/step - loss: 0.0017\n",
            "Epoch 80/100\n",
            "62/62 [==============================] - 7s 121ms/step - loss: 0.0017\n",
            "Epoch 81/100\n",
            "62/62 [==============================] - 7s 121ms/step - loss: 0.0018\n",
            "Epoch 82/100\n",
            "62/62 [==============================] - 8s 122ms/step - loss: 0.0017\n",
            "Epoch 83/100\n",
            "62/62 [==============================] - 7s 120ms/step - loss: 0.0017\n",
            "Epoch 84/100\n",
            "62/62 [==============================] - 8s 122ms/step - loss: 0.0017\n",
            "Epoch 85/100\n",
            "62/62 [==============================] - 8s 121ms/step - loss: 0.0018\n",
            "Epoch 86/100\n",
            "62/62 [==============================] - 8s 122ms/step - loss: 0.0017\n",
            "Epoch 87/100\n",
            "62/62 [==============================] - 7s 121ms/step - loss: 0.0018\n",
            "Epoch 88/100\n",
            "62/62 [==============================] - 7s 120ms/step - loss: 0.0017\n",
            "Epoch 89/100\n",
            "62/62 [==============================] - 7s 121ms/step - loss: 0.0017\n",
            "Epoch 90/100\n",
            "62/62 [==============================] - 8s 123ms/step - loss: 0.0017\n",
            "Epoch 91/100\n",
            "62/62 [==============================] - 8s 122ms/step - loss: 0.0017\n",
            "Epoch 92/100\n",
            "62/62 [==============================] - 7s 121ms/step - loss: 0.0017\n",
            "Epoch 93/100\n",
            "62/62 [==============================] - 7s 121ms/step - loss: 0.0017\n",
            "Epoch 94/100\n",
            "62/62 [==============================] - 7s 121ms/step - loss: 0.0018\n",
            "Epoch 95/100\n",
            "62/62 [==============================] - 8s 122ms/step - loss: 0.0017\n",
            "Epoch 96/100\n",
            "62/62 [==============================] - 8s 122ms/step - loss: 0.0017\n",
            "Epoch 97/100\n",
            "62/62 [==============================] - 8s 122ms/step - loss: 0.0017\n",
            "Epoch 98/100\n",
            "62/62 [==============================] - 8s 122ms/step - loss: 0.0018\n",
            "Epoch 99/100\n",
            "62/62 [==============================] - 8s 122ms/step - loss: 0.0018\n",
            "Epoch 100/100\n",
            "62/62 [==============================] - 8s 122ms/step - loss: 0.0018\n"
          ]
        },
        {
          "output_type": "execute_result",
          "data": {
            "text/plain": [
              "<keras.callbacks.History at 0x7fef73d20a90>"
            ]
          },
          "metadata": {},
          "execution_count": 57
        }
      ]
    },
    {
      "cell_type": "code",
      "source": [
        "ds_test = pd.read_csv('https://raw.githubusercontent.com/mwitiderrick/stockprice/master/NSE-TATAGLOBAL.csv')\n",
        "real_stock_price = ds_test.iloc[:, 1:2].values"
      ],
      "metadata": {
        "id": "VHOBCmxhbJpf"
      },
      "execution_count": 58,
      "outputs": []
    },
    {
      "cell_type": "code",
      "source": [
        "dataset_total = pd.concat((ds['Open'], ds_test['Open']), axis = 0)\n",
        "inputs = dataset_total[len(dataset_total) - len(ds_test) - 60:].values\n",
        "inputs = inputs.reshape(-1,1)\n",
        "inputs = S.transform(inputs)\n",
        "X_test = []\n",
        "for i in range(60, 76):\n",
        "    X_test.append(inputs[i-60:i, 0])\n",
        "X_test = np.array(X_test)\n",
        "X_test = np.reshape(X_test, (X_test.shape[0], X_test.shape[1], 1))\n",
        "predicted_stock_price = model.predict(X_test)\n",
        "predicted_stock_price = S.inverse_transform(predicted_stock_price)"
      ],
      "metadata": {
        "id": "dEH3sSOHf5Jp"
      },
      "execution_count": 59,
      "outputs": []
    },
    {
      "cell_type": "code",
      "source": [
        "plt.plot(real_stock_price, color = 'blue', label = 'TATA Stock Price')\n",
        "plt.plot(predicted_stock_price, color = 'red', label = 'Predicted TATA Stock Price')\n",
        "plt.title('TATA Stock Price Prediction')\n",
        "plt.xlabel('Time')\n",
        "plt.ylabel('TATA Stock Price')\n",
        "plt.legend()\n",
        "plt.show()"
      ],
      "metadata": {
        "colab": {
          "base_uri": "https://localhost:8080/",
          "height": 295
        },
        "id": "z7GMA7LwgJmO",
        "outputId": "a036c852-fa90-4fa3-b73d-43dbd3c12c44"
      },
      "execution_count": 60,
      "outputs": [
        {
          "output_type": "display_data",
          "data": {
            "image/png": "[encoded data removed]",
            "text/plain": [
              "<Figure size 432x288 with 1 Axes>"
            ]
          },
          "metadata": {
            "needs_background": "light"
          }
        }
      ]
    },
    {
      "cell_type": "markdown",
      "source": [
        "#Thank You Let's Grow More(LGM)"
      ],
      "metadata": {
        "id": "O7JczvVdFtgP"
      }
    }
  ]
}